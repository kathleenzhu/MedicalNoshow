{
 "cells": [
  {
   "cell_type": "code",
   "execution_count": 13,
   "metadata": {},
   "outputs": [],
   "source": [
    "using DataFrames\n",
    "using PyPlot"
   ]
  },
  {
   "cell_type": "code",
   "execution_count": 2,
   "metadata": {},
   "outputs": [
    {
     "data": {
      "text/plain": [
       "299651-element DataArrays.DataArray{Int64,1}:\n",
       " NA\n",
       " NA\n",
       " NA\n",
       " NA\n",
       " NA\n",
       " NA\n",
       " NA\n",
       " NA\n",
       " NA\n",
       " NA\n",
       " NA\n",
       " NA\n",
       " NA\n",
       " ⋮ \n",
       " NA\n",
       " NA\n",
       " NA\n",
       " NA\n",
       " NA\n",
       " NA\n",
       " NA\n",
       " NA\n",
       " NA\n",
       " NA\n",
       " NA\n",
       " NA"
      ]
     },
     "execution_count": 2,
     "metadata": {},
     "output_type": "execute_result"
    }
   ],
   "source": [
    "#read data\n",
    "data = readtable(\"data2.csv\");\n",
    "\n",
    "#select no-show and features columns: no show, wait time, age, day of the week, month, scholarship, hypertension, smoke\n",
    "noshowdata = data[:,[:NoShow,:WaitTime,:Age,:DayOfTheWeek,:ApptMonth, :Scholarship, :Hypertension, :Smokes]]\n",
    "\n",
    "noshowdata[:Sunday] = DataArray(Int64, size(noshowdata)[1])\n",
    "noshowdata[:Monday] = DataArray(Int64, size(noshowdata)[1])\n",
    "noshowdata[:Tuesday] = DataArray(Int64, size(noshowdata)[1])\n",
    "noshowdata[:Wednesday] = DataArray(Int64, size(noshowdata)[1])\n",
    "noshowdata[:Thursday] = DataArray(Int64, size(noshowdata)[1])\n",
    "noshowdata[:Friday] = DataArray(Int64, size(noshowdata)[1])\n",
    "noshowdata[:Saturday] = DataArray(Int64, size(noshowdata)[1])"
   ]
  },
  {
   "cell_type": "code",
   "execution_count": 3,
   "metadata": {
    "collapsed": true
   },
   "outputs": [],
   "source": [
    "for i in 1: size(noshowdata)[1]\n",
    "    if noshowdata[i, :DayOfTheWeek] == \"Sunday\"\n",
    "        noshowdata[i,:Sunday] = 1\n",
    "    end\n",
    "    if noshowdata[i,:DayOfTheWeek] == \"Monday\"\n",
    "        noshowdata[i,:Monday] = 1        \n",
    "    end\n",
    "    if noshowdata[i,:DayOfTheWeek] == \"Tuesday\"\n",
    "        noshowdata[i,:Tuesday] = 1\n",
    "    end\n",
    "    if noshowdata[i,:DayOfTheWeek] == \"Wednesday\"\n",
    "        noshowdata[i,:Wednesday] = 1\n",
    "    end\n",
    "    if noshowdata[i,:DayOfTheWeek] == \"Thursday\"\n",
    "        noshowdata[i,:Thursday] = 1\n",
    "    end\n",
    "    if noshowdata[i,:DayOfTheWeek] == \"Friday\"\n",
    "        noshowdata[i,:Friday] = 1    \n",
    "    end\n",
    "    if noshowdata[i,:DayOfTheWeek] == \"Saturday\"\n",
    "        noshowdata[i,:Saturday] = 1\n",
    "    end\n",
    "end"
   ]
  },
  {
   "cell_type": "code",
   "execution_count": 4,
   "metadata": {
    "collapsed": true
   },
   "outputs": [],
   "source": [
    "for row in 1:size(noshowdata)[1]\n",
    "      for col in 1:size(noshowdata)[2]\n",
    "        if  isna(noshowdata[row,col])\n",
    "            noshowdata[row,col] = -1\n",
    "        end\n",
    "      end\n",
    "end  "
   ]
  },
  {
   "cell_type": "code",
   "execution_count": 5,
   "metadata": {},
   "outputs": [
    {
     "data": {
      "text/html": [
       "<table class=\"data-frame\"><thead><tr><th></th><th>NoShow</th><th>WaitTime</th><th>Age</th><th>ApptMonth</th><th>Scholarship</th><th>Hypertension</th><th>Smokes</th><th>Sunday</th><th>Monday</th><th>Tuesday</th><th>Wednesday</th><th>Thursday</th><th>Friday</th><th>Saturday</th></tr></thead><tbody><tr><th>1</th><td>0</td><td>29</td><td>19</td><td>1</td><td>0</td><td>0</td><td>0</td><td>-1</td><td>-1</td><td>-1</td><td>1</td><td>-1</td><td>-1</td><td>-1</td></tr><tr><th>2</th><td>0</td><td>1</td><td>24</td><td>8</td><td>0</td><td>0</td><td>0</td><td>-1</td><td>-1</td><td>-1</td><td>1</td><td>-1</td><td>-1</td><td>-1</td></tr><tr><th>3</th><td>0</td><td>1</td><td>4</td><td>2</td><td>0</td><td>0</td><td>0</td><td>-1</td><td>-1</td><td>1</td><td>-1</td><td>-1</td><td>-1</td><td>-1</td></tr><tr><th>4</th><td>0</td><td>15</td><td>5</td><td>8</td><td>0</td><td>0</td><td>0</td><td>-1</td><td>-1</td><td>-1</td><td>-1</td><td>1</td><td>-1</td><td>-1</td></tr><tr><th>5</th><td>0</td><td>6</td><td>38</td><td>10</td><td>0</td><td>0</td><td>0</td><td>-1</td><td>-1</td><td>1</td><td>-1</td><td>-1</td><td>-1</td><td>-1</td></tr><tr><th>6</th><td>1</td><td>35</td><td>5</td><td>7</td><td>0</td><td>0</td><td>0</td><td>-1</td><td>-1</td><td>1</td><td>-1</td><td>-1</td><td>-1</td><td>-1</td></tr><tr><th>7</th><td>0</td><td>18</td><td>46</td><td>7</td><td>0</td><td>0</td><td>0</td><td>-1</td><td>-1</td><td>1</td><td>-1</td><td>-1</td><td>-1</td><td>-1</td></tr><tr><th>8</th><td>0</td><td>14</td><td>4</td><td>8</td><td>1</td><td>0</td><td>0</td><td>-1</td><td>-1</td><td>-1</td><td>-1</td><td>-1</td><td>1</td><td>-1</td></tr><tr><th>9</th><td>0</td><td>14</td><td>20</td><td>10</td><td>0</td><td>0</td><td>0</td><td>-1</td><td>-1</td><td>1</td><td>-1</td><td>-1</td><td>-1</td><td>-1</td></tr><tr><th>10</th><td>0</td><td>4</td><td>51</td><td>6</td><td>0</td><td>1</td><td>0</td><td>-1</td><td>-1</td><td>1</td><td>-1</td><td>-1</td><td>-1</td><td>-1</td></tr><tr><th>11</th><td>0</td><td>39</td><td>33</td><td>11</td><td>0</td><td>0</td><td>0</td><td>-1</td><td>1</td><td>-1</td><td>-1</td><td>-1</td><td>-1</td><td>-1</td></tr><tr><th>12</th><td>0</td><td>22</td><td>58</td><td>5</td><td>1</td><td>1</td><td>0</td><td>-1</td><td>-1</td><td>-1</td><td>-1</td><td>1</td><td>-1</td><td>-1</td></tr><tr><th>13</th><td>1</td><td>17</td><td>62</td><td>8</td><td>0</td><td>1</td><td>0</td><td>-1</td><td>1</td><td>-1</td><td>-1</td><td>-1</td><td>-1</td><td>-1</td></tr><tr><th>14</th><td>0</td><td>6</td><td>62</td><td>7</td><td>0</td><td>0</td><td>0</td><td>-1</td><td>1</td><td>-1</td><td>-1</td><td>-1</td><td>-1</td><td>-1</td></tr><tr><th>15</th><td>1</td><td>6</td><td>38</td><td>3</td><td>0</td><td>0</td><td>0</td><td>-1</td><td>-1</td><td>-1</td><td>-1</td><td>1</td><td>-1</td><td>-1</td></tr><tr><th>16</th><td>0</td><td>1</td><td>73</td><td>4</td><td>0</td><td>1</td><td>0</td><td>-1</td><td>-1</td><td>-1</td><td>-1</td><td>1</td><td>-1</td><td>-1</td></tr><tr><th>17</th><td>0</td><td>23</td><td>48</td><td>3</td><td>0</td><td>0</td><td>0</td><td>-1</td><td>1</td><td>-1</td><td>-1</td><td>-1</td><td>-1</td><td>-1</td></tr><tr><th>18</th><td>1</td><td>2</td><td>52</td><td>6</td><td>0</td><td>0</td><td>0</td><td>-1</td><td>-1</td><td>-1</td><td>-1</td><td>1</td><td>-1</td><td>-1</td></tr><tr><th>19</th><td>0</td><td>7</td><td>64</td><td>2</td><td>0</td><td>1</td><td>0</td><td>-1</td><td>1</td><td>-1</td><td>-1</td><td>-1</td><td>-1</td><td>-1</td></tr><tr><th>20</th><td>0</td><td>1</td><td>1</td><td>4</td><td>0</td><td>0</td><td>0</td><td>-1</td><td>-1</td><td>-1</td><td>1</td><td>-1</td><td>-1</td><td>-1</td></tr><tr><th>21</th><td>0</td><td>3</td><td>33</td><td>3</td><td>0</td><td>0</td><td>0</td><td>-1</td><td>-1</td><td>-1</td><td>-1</td><td>-1</td><td>-1</td><td>1</td></tr><tr><th>22</th><td>0</td><td>2</td><td>44</td><td>4</td><td>0</td><td>0</td><td>0</td><td>-1</td><td>-1</td><td>-1</td><td>-1</td><td>-1</td><td>1</td><td>-1</td></tr><tr><th>23</th><td>0</td><td>1</td><td>5</td><td>11</td><td>0</td><td>0</td><td>0</td><td>-1</td><td>-1</td><td>-1</td><td>-1</td><td>1</td><td>-1</td><td>-1</td></tr><tr><th>24</th><td>0</td><td>4</td><td>69</td><td>11</td><td>0</td><td>1</td><td>0</td><td>-1</td><td>-1</td><td>-1</td><td>-1</td><td>-1</td><td>1</td><td>-1</td></tr><tr><th>25</th><td>1</td><td>5</td><td>16</td><td>10</td><td>0</td><td>0</td><td>0</td><td>-1</td><td>-1</td><td>1</td><td>-1</td><td>-1</td><td>-1</td><td>-1</td></tr><tr><th>26</th><td>1</td><td>14</td><td>8</td><td>5</td><td>0</td><td>0</td><td>0</td><td>-1</td><td>1</td><td>-1</td><td>-1</td><td>-1</td><td>-1</td><td>-1</td></tr><tr><th>27</th><td>0</td><td>15</td><td>7</td><td>4</td><td>0</td><td>0</td><td>0</td><td>-1</td><td>-1</td><td>-1</td><td>-1</td><td>1</td><td>-1</td><td>-1</td></tr><tr><th>28</th><td>0</td><td>2</td><td>51</td><td>7</td><td>0</td><td>0</td><td>0</td><td>-1</td><td>-1</td><td>-1</td><td>-1</td><td>1</td><td>-1</td><td>-1</td></tr><tr><th>29</th><td>0</td><td>2</td><td>29</td><td>8</td><td>0</td><td>0</td><td>0</td><td>-1</td><td>-1</td><td>-1</td><td>1</td><td>-1</td><td>-1</td><td>-1</td></tr><tr><th>30</th><td>1</td><td>30</td><td>59</td><td>3</td><td>0</td><td>0</td><td>0</td><td>-1</td><td>-1</td><td>-1</td><td>-1</td><td>-1</td><td>1</td><td>-1</td></tr><tr><th>&vellip;</th><td>&vellip;</td><td>&vellip;</td><td>&vellip;</td><td>&vellip;</td><td>&vellip;</td><td>&vellip;</td><td>&vellip;</td><td>&vellip;</td><td>&vellip;</td><td>&vellip;</td><td>&vellip;</td><td>&vellip;</td><td>&vellip;</td><td>&vellip;</td></tr></tbody></table>"
      ],
      "text/plain": [
       "299651×14 DataFrames.DataFrame\n",
       "│ Row    │ NoShow │ WaitTime │ Age │ ApptMonth │ Scholarship │ Hypertension │\n",
       "├────────┼────────┼──────────┼─────┼───────────┼─────────────┼──────────────┤\n",
       "│ 1      │ 0      │ 29       │ 19  │ 1         │ 0           │ 0            │\n",
       "│ 2      │ 0      │ 1        │ 24  │ 8         │ 0           │ 0            │\n",
       "│ 3      │ 0      │ 1        │ 4   │ 2         │ 0           │ 0            │\n",
       "│ 4      │ 0      │ 15       │ 5   │ 8         │ 0           │ 0            │\n",
       "│ 5      │ 0      │ 6        │ 38  │ 10        │ 0           │ 0            │\n",
       "│ 6      │ 1      │ 35       │ 5   │ 7         │ 0           │ 0            │\n",
       "│ 7      │ 0      │ 18       │ 46  │ 7         │ 0           │ 0            │\n",
       "│ 8      │ 0      │ 14       │ 4   │ 8         │ 1           │ 0            │\n",
       "│ 9      │ 0      │ 14       │ 20  │ 10        │ 0           │ 0            │\n",
       "│ 10     │ 0      │ 4        │ 51  │ 6         │ 0           │ 1            │\n",
       "│ 11     │ 0      │ 39       │ 33  │ 11        │ 0           │ 0            │\n",
       "⋮\n",
       "│ 299640 │ 0      │ 6        │ 10  │ 1         │ 0           │ 0            │\n",
       "│ 299641 │ 0      │ 1        │ 56  │ 12        │ 0           │ 0            │\n",
       "│ 299642 │ 1      │ 7        │ 55  │ 6         │ 0           │ 1            │\n",
       "│ 299643 │ 0      │ 6        │ 46  │ 7         │ 0           │ 1            │\n",
       "│ 299644 │ 0      │ 6        │ 27  │ 9         │ 0           │ 0            │\n",
       "│ 299645 │ 1      │ 26       │ 49  │ 2         │ 0           │ 0            │\n",
       "│ 299646 │ 0      │ 2        │ 17  │ 7         │ 0           │ 0            │\n",
       "│ 299647 │ 0      │ 23       │ 41  │ 4         │ 0           │ 1            │\n",
       "│ 299648 │ 0      │ 4        │ 67  │ 11        │ 0           │ 1            │\n",
       "│ 299649 │ 1      │ 1        │ 48  │ 7         │ 1           │ 0            │\n",
       "│ 299650 │ 0      │ 6        │ 5   │ 5         │ 0           │ 0            │\n",
       "│ 299651 │ 0      │ 33       │ 0   │ 7         │ 0           │ 0            │\n",
       "\n",
       "│ Row    │ Smokes │ Sunday │ Monday │ Tuesday │ Wednesday │ Thursday │ Friday │\n",
       "├────────┼────────┼────────┼────────┼─────────┼───────────┼──────────┼────────┤\n",
       "│ 1      │ 0      │ -1     │ -1     │ -1      │ 1         │ -1       │ -1     │\n",
       "│ 2      │ 0      │ -1     │ -1     │ -1      │ 1         │ -1       │ -1     │\n",
       "│ 3      │ 0      │ -1     │ -1     │ 1       │ -1        │ -1       │ -1     │\n",
       "│ 4      │ 0      │ -1     │ -1     │ -1      │ -1        │ 1        │ -1     │\n",
       "│ 5      │ 0      │ -1     │ -1     │ 1       │ -1        │ -1       │ -1     │\n",
       "│ 6      │ 0      │ -1     │ -1     │ 1       │ -1        │ -1       │ -1     │\n",
       "│ 7      │ 0      │ -1     │ -1     │ 1       │ -1        │ -1       │ -1     │\n",
       "│ 8      │ 0      │ -1     │ -1     │ -1      │ -1        │ -1       │ 1      │\n",
       "│ 9      │ 0      │ -1     │ -1     │ 1       │ -1        │ -1       │ -1     │\n",
       "│ 10     │ 0      │ -1     │ -1     │ 1       │ -1        │ -1       │ -1     │\n",
       "│ 11     │ 0      │ -1     │ 1      │ -1      │ -1        │ -1       │ -1     │\n",
       "⋮\n",
       "│ 299640 │ 0      │ -1     │ -1     │ 1       │ -1        │ -1       │ -1     │\n",
       "│ 299641 │ 0      │ -1     │ -1     │ -1      │ -1        │ 1        │ -1     │\n",
       "│ 299642 │ 1      │ -1     │ -1     │ -1      │ -1        │ -1       │ 1      │\n",
       "│ 299643 │ 0      │ -1     │ -1     │ 1       │ -1        │ -1       │ -1     │\n",
       "│ 299644 │ 0      │ -1     │ 1      │ -1      │ -1        │ -1       │ -1     │\n",
       "│ 299645 │ 1      │ -1     │ -1     │ 1       │ -1        │ -1       │ -1     │\n",
       "│ 299646 │ 0      │ -1     │ -1     │ -1      │ -1        │ -1       │ 1      │\n",
       "│ 299647 │ 0      │ -1     │ -1     │ -1      │ 1         │ -1       │ -1     │\n",
       "│ 299648 │ 0      │ -1     │ -1     │ 1       │ -1        │ -1       │ -1     │\n",
       "│ 299649 │ 0      │ -1     │ -1     │ -1      │ -1        │ -1       │ 1      │\n",
       "│ 299650 │ 0      │ -1     │ -1     │ -1      │ -1        │ 1        │ -1     │\n",
       "│ 299651 │ 0      │ -1     │ -1     │ -1      │ 1         │ -1       │ -1     │\n",
       "\n",
       "│ Row    │ Saturday │\n",
       "├────────┼──────────┤\n",
       "│ 1      │ -1       │\n",
       "│ 2      │ -1       │\n",
       "│ 3      │ -1       │\n",
       "│ 4      │ -1       │\n",
       "│ 5      │ -1       │\n",
       "│ 6      │ -1       │\n",
       "│ 7      │ -1       │\n",
       "│ 8      │ -1       │\n",
       "│ 9      │ -1       │\n",
       "│ 10     │ -1       │\n",
       "│ 11     │ -1       │\n",
       "⋮\n",
       "│ 299640 │ -1       │\n",
       "│ 299641 │ -1       │\n",
       "│ 299642 │ -1       │\n",
       "│ 299643 │ -1       │\n",
       "│ 299644 │ -1       │\n",
       "│ 299645 │ -1       │\n",
       "│ 299646 │ -1       │\n",
       "│ 299647 │ -1       │\n",
       "│ 299648 │ -1       │\n",
       "│ 299649 │ -1       │\n",
       "│ 299650 │ -1       │\n",
       "│ 299651 │ -1       │"
      ]
     },
     "execution_count": 5,
     "metadata": {},
     "output_type": "execute_result"
    }
   ],
   "source": [
    "delete!(noshowdata, :DayOfTheWeek)                "
   ]
  },
  {
   "cell_type": "code",
   "execution_count": 6,
   "metadata": {},
   "outputs": [
    {
     "data": {
      "text/plain": [
       "299651-element DataArrays.DataArray{Int64,1}:\n",
       " -1\n",
       " -1\n",
       " -1\n",
       " -1\n",
       " -1\n",
       "  1\n",
       " -1\n",
       " -1\n",
       " -1\n",
       " -1\n",
       " -1\n",
       " -1\n",
       "  1\n",
       "  ⋮\n",
       " -1\n",
       " -1\n",
       "  1\n",
       " -1\n",
       " -1\n",
       "  1\n",
       " -1\n",
       " -1\n",
       " -1\n",
       "  1\n",
       " -1\n",
       " -1"
      ]
     },
     "execution_count": 6,
     "metadata": {},
     "output_type": "execute_result"
    }
   ],
   "source": [
    "noshowdata[:,:ApptMonth] = 2*noshowdata[:,:ApptMonth] - 1\n",
    "noshowdata[:,:Scholarship] = 2*noshowdata[:,:Scholarship] - 1\n",
    "noshowdata[:,:Hypertension] = 2*noshowdata[:,:Hypertension] - 1\n",
    "noshowdata[:,:Smokes] = 2*noshowdata[:,:Smokes] - 1\n",
    "noshowdata[:,1] = 2*noshowdata[:,1] - 1"
   ]
  },
  {
   "cell_type": "code",
   "execution_count": 7,
   "metadata": {
    "collapsed": true
   },
   "outputs": [],
   "source": [
    "modeldata = convert(Array{Float64}, noshowdata);\n"
   ]
  },
  {
   "cell_type": "code",
   "execution_count": 8,
   "metadata": {},
   "outputs": [
    {
     "data": {
      "text/plain": [
       "split (generic function with 1 method)"
      ]
     },
     "execution_count": 8,
     "metadata": {},
     "output_type": "execute_result"
    }
   ],
   "source": [
    "#split \n",
    "function split(arr::Array)\n",
    "    n = size(arr)[1]\n",
    "    is = sortperm(rand(n))\n",
    "    \n",
    "    X = convert(Array{Float64}, arr[:,2:end])\n",
    "    y = arr[:,1]\n",
    "\n",
    "    Xtrain = X[is[1:Int(4*round(n/5))],:] ## X training set\n",
    "    Xtest = X[is[Int(4*round(n/5)+1):end],:] ## X test set\n",
    "    ytrain = convert(Array{Int}, y[is[1:Int(4*round(n/5))]]) ## y training set\n",
    "    ytest = convert(Array{Int}, y[is[Int(4*round(n/5)+1):end]]) ## y test set\n",
    "    return Xtrain, Xtest, ytrain, ytest\n",
    "end"
   ]
  },
  {
   "cell_type": "code",
   "execution_count": 9,
   "metadata": {},
   "outputs": [
    {
     "data": {
      "text/plain": [
       "([26.0 53.0 … -1.0 -1.0; 2.0 33.0 … 1.0 -1.0; … ; 35.0 10.0 … -1.0 -1.0; 36.0 61.0 … -1.0 -1.0], [14.0 20.0 … 1.0 -1.0; 16.0 77.0 … -1.0 -1.0; … ; 10.0 0.0 … -1.0 -1.0; 18.0 14.0 … -1.0 -1.0], [-1, -1, 1, -1, -1, -1, 1, 1, -1, -1  …  -1, 1, -1, -1, 1, -1, -1, 1, -1, -1], [-1, 1, -1, 1, -1, -1, -1, 1, -1, 1  …  -1, -1, -1, 1, -1, -1, -1, -1, -1, 1])"
      ]
     },
     "execution_count": 9,
     "metadata": {},
     "output_type": "execute_result"
    }
   ],
   "source": [
    "X_train, X_test, y_train, y_test = split(modeldata)"
   ]
  },
  {
   "cell_type": "code",
   "execution_count": 10,
   "metadata": {},
   "outputs": [
    {
     "name": "stderr",
     "output_type": "stream",
     "text": [
      "WARNING: Method definition (::Type{ArrayViews.UnsafeContiguousView{T, N} where N where T})(Ptr{T}, Int64, Tuple{Vararg{Int64, N}}) in module ArrayViews at /Users/kathleenzhu/.julia/v0.6/ArrayViews/src/arrviews.jl:18 overwritten at /Users/kathleenzhu/.julia/v0.6/ArrayViews/src/arrviews.jl:26.\n",
      "WARNING: Method definition isnan(DataArrays.NAtype) in module DataArrays at /Users/kathleenzhu/.julia/v0.6/DataArrays/src/natype.jl:66 overwritten in module LowRankModels at /Users/kathleenzhu/.julia/v0.6/LowRankModels/src/fit_dataframe.jl:249.\n"
     ]
    },
    {
     "data": {
      "text/plain": [
       "proxgrad_const (generic function with 1 method)"
      ]
     },
     "execution_count": 10,
     "metadata": {},
     "output_type": "execute_result"
    }
   ],
   "source": [
    "#proximal gradient method\n",
    "include(\"proxgrad.jl\")"
   ]
  },
  {
   "cell_type": "code",
   "execution_count": 19,
   "metadata": {},
   "outputs": [
    {
     "name": "stderr",
     "output_type": "stream",
     "text": [
      "\u001b[1m\u001b[33mWARNING: \u001b[39m\u001b[22m\u001b[33msumabs2(x) is deprecated, use sum(abs2, x) instead.\u001b[39m\n",
      "Stacktrace:\n",
      " [1] \u001b[1mdepwarn\u001b[22m\u001b[22m\u001b[1m(\u001b[22m\u001b[22m::String, ::Symbol\u001b[1m)\u001b[22m\u001b[22m at \u001b[1m./deprecated.jl:70\u001b[22m\u001b[22m\n",
      " [2] \u001b[1msumabs2\u001b[22m\u001b[22m\u001b[1m(\u001b[22m\u001b[22m::Array{Float64,1}\u001b[1m)\u001b[22m\u001b[22m at \u001b[1m./deprecated.jl:57\u001b[22m\u001b[22m\n",
      " [3] \u001b[1mevaluate\u001b[22m\u001b[22m at \u001b[1m/Users/kathleenzhu/.julia/v0.6/LowRankModels/src/regularizers.jl:57\u001b[22m\u001b[22m [inlined]\n",
      " [4] \u001b[1m#proxgrad_linesearch#2\u001b[22m\u001b[22m\u001b[1m(\u001b[22m\u001b[22m::Int64, ::Int64, ::Array{Float64,1}, ::LowRankModels.ConvergenceHistory, ::Function, ::LowRankModels.QuadLoss, ::LowRankModels.QuadReg, ::Array{Float64,2}, ::Array{Int64,1}\u001b[1m)\u001b[22m\u001b[22m at \u001b[1m/Users/kathleenzhu/Documents/GitHub/MedicalNoshow/proxgrad.jl:42\u001b[22m\u001b[22m\n",
      " [5] \u001b[1mproxgrad_linesearch\u001b[22m\u001b[22m\u001b[1m(\u001b[22m\u001b[22m::LowRankModels.QuadLoss, ::LowRankModels.QuadReg, ::Array{Float64,2}, ::Array{Int64,1}\u001b[1m)\u001b[22m\u001b[22m at \u001b[1m/Users/kathleenzhu/Documents/GitHub/MedicalNoshow/proxgrad.jl:42\u001b[22m\u001b[22m\n",
      " [6] \u001b[1m#proxgrad#1\u001b[22m\u001b[22m\u001b[1m(\u001b[22m\u001b[22m::Array{Any,1}, ::Function, ::LowRankModels.QuadLoss, ::LowRankModels.QuadReg, ::Vararg{Any,N} where N\u001b[1m)\u001b[22m\u001b[22m at \u001b[1m/Users/kathleenzhu/Documents/GitHub/MedicalNoshow/proxgrad.jl:29\u001b[22m\u001b[22m\n",
      " [7] \u001b[1mproxgrad\u001b[22m\u001b[22m\u001b[1m(\u001b[22m\u001b[22m::LowRankModels.QuadLoss, ::LowRankModels.QuadReg, ::Vararg{Any,N} where N\u001b[1m)\u001b[22m\u001b[22m at \u001b[1m/Users/kathleenzhu/Documents/GitHub/MedicalNoshow/proxgrad.jl:29\u001b[22m\u001b[22m\n",
      " [8] \u001b[1minclude_string\u001b[22m\u001b[22m\u001b[1m(\u001b[22m\u001b[22m::String, ::String\u001b[1m)\u001b[22m\u001b[22m at \u001b[1m./loading.jl:522\u001b[22m\u001b[22m\n",
      " [9] \u001b[1minclude_string\u001b[22m\u001b[22m\u001b[1m(\u001b[22m\u001b[22m::Module, ::String, ::String\u001b[1m)\u001b[22m\u001b[22m at \u001b[1m/Users/kathleenzhu/.julia/v0.6/Compat/src/Compat.jl:478\u001b[22m\u001b[22m\n",
      " [10] \u001b[1mexecute_request\u001b[22m\u001b[22m\u001b[1m(\u001b[22m\u001b[22m::ZMQ.Socket, ::IJulia.Msg\u001b[1m)\u001b[22m\u001b[22m at \u001b[1m/Users/kathleenzhu/.julia/v0.6/IJulia/src/execute_request.jl:154\u001b[22m\u001b[22m\n",
      " [11] \u001b[1meventloop\u001b[22m\u001b[22m\u001b[1m(\u001b[22m\u001b[22m::ZMQ.Socket\u001b[1m)\u001b[22m\u001b[22m at \u001b[1m/Users/kathleenzhu/.julia/v0.6/IJulia/src/eventloop.jl:8\u001b[22m\u001b[22m\n",
      " [12] \u001b[1m(::IJulia.##14#17)\u001b[22m\u001b[22m\u001b[1m(\u001b[22m\u001b[22m\u001b[1m)\u001b[22m\u001b[22m at \u001b[1m./task.jl:335\u001b[22m\u001b[22m\n",
      "while loading In[19], in expression starting on line 3\n"
     ]
    },
    {
     "data": {
      "text/plain": [
       "13-element Array{Float64,1}:\n",
       " -0.000389768\n",
       " -0.0139496  \n",
       " -0.01027    \n",
       "  0.00316383 \n",
       "  0.00315775 \n",
       "  0.00370635 \n",
       "  0.00303552 \n",
       "  0.00286387 \n",
       "  0.00120151 \n",
       "  0.00153891 \n",
       "  0.00130173 \n",
       "  0.00211152 \n",
       "  0.0031275  "
      ]
     },
     "execution_count": 19,
     "metadata": {},
     "output_type": "execute_result"
    }
   ],
   "source": [
    "#Ridge regression \n",
    "\n",
    "w_ridge = proxgrad(QuadLoss(), QuadReg(), X_train, y_train)"
   ]
  },
  {
   "cell_type": "code",
   "execution_count": 20,
   "metadata": {},
   "outputs": [
    {
     "data": {
      "text/plain": [
       "misclassification (generic function with 1 method)"
      ]
     },
     "execution_count": 20,
     "metadata": {},
     "output_type": "execute_result"
    }
   ],
   "source": [
    "#misclassification \n",
    "function misclassification(X, y, w)\n",
    "    n = size(X,1)\n",
    "    misclassified = 0\n",
    "    for i in 1:n\n",
    "        if(sign((w'*X[i,:])[1]) != y[i])\n",
    "            misclassified += 1/n\n",
    "        end\n",
    "    end\n",
    "    return round(misclassified, 4)\n",
    "end\n"
   ]
  },
  {
   "cell_type": "code",
   "execution_count": 21,
   "metadata": {},
   "outputs": [
    {
     "data": {
      "text/plain": [
       "0.3027"
      ]
     },
     "execution_count": 21,
     "metadata": {},
     "output_type": "execute_result"
    }
   ],
   "source": [
    "#misclassification for ridge regression \n",
    "mis_ridge = misclassification(X_test, y_test, w_ridge)"
   ]
  },
  {
   "cell_type": "code",
   "execution_count": 44,
   "metadata": {},
   "outputs": [
    {
     "name": "stderr",
     "output_type": "stream",
     "text": [
      "\u001b[1m\u001b[33mWARNING: \u001b[39m\u001b[22m\u001b[33msumabs(x) is deprecated, use sum(abs, x) instead.\u001b[39m\n",
      "Stacktrace:\n",
      " [1] \u001b[1mdepwarn\u001b[22m\u001b[22m\u001b[1m(\u001b[22m\u001b[22m::String, ::Symbol\u001b[1m)\u001b[22m\u001b[22m at \u001b[1m./deprecated.jl:70\u001b[22m\u001b[22m\n",
      " [2] \u001b[1msumabs\u001b[22m\u001b[22m\u001b[1m(\u001b[22m\u001b[22m::Array{Float64,1}\u001b[1m)\u001b[22m\u001b[22m at \u001b[1m./deprecated.jl:57\u001b[22m\u001b[22m\n",
      " [3] \u001b[1mevaluate\u001b[22m\u001b[22m at \u001b[1m/Users/kathleenzhu/.julia/v0.6/LowRankModels/src/regularizers.jl:87\u001b[22m\u001b[22m [inlined]\n",
      " [4] \u001b[1m#proxgrad_linesearch#2\u001b[22m\u001b[22m\u001b[1m(\u001b[22m\u001b[22m::Int64, ::Int64, ::Array{Float64,1}, ::LowRankModels.ConvergenceHistory, ::Function, ::LowRankModels.WeightedHingeLoss, ::LowRankModels.OneReg, ::Array{Float64,2}, ::Array{Int64,1}\u001b[1m)\u001b[22m\u001b[22m at \u001b[1m/Users/kathleenzhu/Documents/GitHub/MedicalNoshow/proxgrad.jl:42\u001b[22m\u001b[22m\n",
      " [5] \u001b[1m(::#kw##proxgrad_linesearch)\u001b[22m\u001b[22m\u001b[1m(\u001b[22m\u001b[22m::Array{Any,1}, ::#proxgrad_linesearch, ::LowRankModels.WeightedHingeLoss, ::LowRankModels.OneReg, ::Array{Float64,2}, ::Array{Int64,1}\u001b[1m)\u001b[22m\u001b[22m at \u001b[1m./<missing>:0\u001b[22m\u001b[22m\n",
      " [6] \u001b[1m#proxgrad#1\u001b[22m\u001b[22m\u001b[1m(\u001b[22m\u001b[22m::Array{Any,1}, ::Function, ::LowRankModels.WeightedHingeLoss, ::LowRankModels.OneReg, ::Vararg{Any,N} where N\u001b[1m)\u001b[22m\u001b[22m at \u001b[1m/Users/kathleenzhu/Documents/GitHub/MedicalNoshow/proxgrad.jl:29\u001b[22m\u001b[22m\n",
      " [7] \u001b[1m(::#kw##proxgrad)\u001b[22m\u001b[22m\u001b[1m(\u001b[22m\u001b[22m::Array{Any,1}, ::#proxgrad, ::LowRankModels.WeightedHingeLoss, ::LowRankModels.OneReg, ::Vararg{Any,N} where N\u001b[1m)\u001b[22m\u001b[22m at \u001b[1m./<missing>:0\u001b[22m\u001b[22m\n",
      " [8] \u001b[1minclude_string\u001b[22m\u001b[22m\u001b[1m(\u001b[22m\u001b[22m::String, ::String\u001b[1m)\u001b[22m\u001b[22m at \u001b[1m./loading.jl:522\u001b[22m\u001b[22m\n",
      " [9] \u001b[1minclude_string\u001b[22m\u001b[22m\u001b[1m(\u001b[22m\u001b[22m::Module, ::String, ::String\u001b[1m)\u001b[22m\u001b[22m at \u001b[1m/Users/kathleenzhu/.julia/v0.6/Compat/src/Compat.jl:478\u001b[22m\u001b[22m\n",
      " [10] \u001b[1mexecute_request\u001b[22m\u001b[22m\u001b[1m(\u001b[22m\u001b[22m::ZMQ.Socket, ::IJulia.Msg\u001b[1m)\u001b[22m\u001b[22m at \u001b[1m/Users/kathleenzhu/.julia/v0.6/IJulia/src/execute_request.jl:154\u001b[22m\u001b[22m\n",
      " [11] \u001b[1meventloop\u001b[22m\u001b[22m\u001b[1m(\u001b[22m\u001b[22m::ZMQ.Socket\u001b[1m)\u001b[22m\u001b[22m at \u001b[1m/Users/kathleenzhu/.julia/v0.6/IJulia/src/eventloop.jl:8\u001b[22m\u001b[22m\n",
      " [12] \u001b[1m(::IJulia.##14#17)\u001b[22m\u001b[22m\u001b[1m(\u001b[22m\u001b[22m\u001b[1m)\u001b[22m\u001b[22m at \u001b[1m./task.jl:335\u001b[22m\u001b[22m\n",
      "while loading In[44], in expression starting on line 5\n",
      "\u001b[1m\u001b[33mWARNING: \u001b[39m\u001b[22m\u001b[33mmax(x::AbstractArray{T1}, y::Real) where T1 <: Real is deprecated, use max.(x, y) instead.\u001b[39m\n",
      "Stacktrace:\n",
      " [1] \u001b[1mdepwarn\u001b[22m\u001b[22m\u001b[1m(\u001b[22m\u001b[22m::String, ::Symbol\u001b[1m)\u001b[22m\u001b[22m at \u001b[1m./deprecated.jl:70\u001b[22m\u001b[22m\n",
      " [2] \u001b[1mmax\u001b[22m\u001b[22m\u001b[1m(\u001b[22m\u001b[22m::Array{Float64,1}, ::Int64\u001b[1m)\u001b[22m\u001b[22m at \u001b[1m./deprecated.jl:57\u001b[22m\u001b[22m\n",
      " [3] \u001b[1mprox\u001b[22m\u001b[22m\u001b[1m(\u001b[22m\u001b[22m::LowRankModels.OneReg, ::Array{Float64,1}, ::Int64\u001b[1m)\u001b[22m\u001b[22m at \u001b[1m/Users/kathleenzhu/.julia/v0.6/LowRankModels/src/regularizers.jl:82\u001b[22m\u001b[22m\n",
      " [4] \u001b[1m#proxgrad_linesearch#2\u001b[22m\u001b[22m\u001b[1m(\u001b[22m\u001b[22m::Int64, ::Int64, ::Array{Float64,1}, ::LowRankModels.ConvergenceHistory, ::Function, ::LowRankModels.WeightedHingeLoss, ::LowRankModels.OneReg, ::Array{Float64,2}, ::Array{Int64,1}\u001b[1m)\u001b[22m\u001b[22m at \u001b[1m/Users/kathleenzhu/Documents/GitHub/MedicalNoshow/proxgrad.jl:48\u001b[22m\u001b[22m\n",
      " [5] \u001b[1m(::#kw##proxgrad_linesearch)\u001b[22m\u001b[22m\u001b[1m(\u001b[22m\u001b[22m::Array{Any,1}, ::#proxgrad_linesearch, ::LowRankModels.WeightedHingeLoss, ::LowRankModels.OneReg, ::Array{Float64,2}, ::Array{Int64,1}\u001b[1m)\u001b[22m\u001b[22m at \u001b[1m./<missing>:0\u001b[22m\u001b[22m\n",
      " [6] \u001b[1m#proxgrad#1\u001b[22m\u001b[22m\u001b[1m(\u001b[22m\u001b[22m::Array{Any,1}, ::Function, ::LowRankModels.WeightedHingeLoss, ::LowRankModels.OneReg, ::Vararg{Any,N} where N\u001b[1m)\u001b[22m\u001b[22m at \u001b[1m/Users/kathleenzhu/Documents/GitHub/MedicalNoshow/proxgrad.jl:29\u001b[22m\u001b[22m\n",
      " [7] \u001b[1m(::#kw##proxgrad)\u001b[22m\u001b[22m\u001b[1m(\u001b[22m\u001b[22m::Array{Any,1}, ::#proxgrad, ::LowRankModels.WeightedHingeLoss, ::LowRankModels.OneReg, ::Vararg{Any,N} where N\u001b[1m)\u001b[22m\u001b[22m at \u001b[1m./<missing>:0\u001b[22m\u001b[22m\n",
      " [8] \u001b[1minclude_string\u001b[22m\u001b[22m\u001b[1m(\u001b[22m\u001b[22m::String, ::String\u001b[1m)\u001b[22m\u001b[22m at \u001b[1m./loading.jl:522\u001b[22m\u001b[22m\n",
      " [9] \u001b[1minclude_string\u001b[22m\u001b[22m\u001b[1m(\u001b[22m\u001b[22m::Module, ::String, ::String\u001b[1m)\u001b[22m\u001b[22m at \u001b[1m/Users/kathleenzhu/.julia/v0.6/Compat/src/Compat.jl:478\u001b[22m\u001b[22m\n",
      " [10] \u001b[1mexecute_request\u001b[22m\u001b[22m\u001b[1m(\u001b[22m\u001b[22m::ZMQ.Socket, ::IJulia.Msg\u001b[1m)\u001b[22m\u001b[22m at \u001b[1m/Users/kathleenzhu/.julia/v0.6/IJulia/src/execute_request.jl:154\u001b[22m\u001b[22m\n",
      " [11] \u001b[1meventloop\u001b[22m\u001b[22m\u001b[1m(\u001b[22m\u001b[22m::ZMQ.Socket\u001b[1m)\u001b[22m\u001b[22m at \u001b[1m/Users/kathleenzhu/.julia/v0.6/IJulia/src/eventloop.jl:8\u001b[22m\u001b[22m\n",
      " [12] \u001b[1m(::IJulia.##14#17)\u001b[22m\u001b[22m\u001b[1m(\u001b[22m\u001b[22m\u001b[1m)\u001b[22m\u001b[22m at \u001b[1m./task.jl:335\u001b[22m\u001b[22m\n",
      "while loading In[44], in expression starting on line 5\n"
     ]
    },
    {
     "data": {
      "text/plain": [
       "13-element Array{Float64,1}:\n",
       " -0.000460294\n",
       " -0.015429   \n",
       " -0.0188223  \n",
       "  0.0        \n",
       "  0.0        \n",
       "  0.0        \n",
       "  0.0        \n",
       "  0.0        \n",
       "  0.0        \n",
       "  0.0        \n",
       "  0.0        \n",
       "  0.0        \n",
       "  0.0        "
      ]
     },
     "execution_count": 44,
     "metadata": {},
     "output_type": "execute_result"
    }
   ],
   "source": [
    "#Hinge loss with l1 regularizer \n",
    "\n",
    "n = length(y_train)\n",
    "loss_hinge = 1/n*HingeLoss()\n",
    "w_hinge_l1 = proxgrad(loss_hinge, OneReg(), X_train, y_train, stepsize=1, maxiters=100)"
   ]
  },
  {
   "cell_type": "code",
   "execution_count": 45,
   "metadata": {},
   "outputs": [
    {
     "data": {
      "text/plain": [
       "0.3027"
      ]
     },
     "execution_count": 45,
     "metadata": {},
     "output_type": "execute_result"
    }
   ],
   "source": [
    "#misclassification for Hinge loss with l1 regularizer \n",
    "mis_hinge_l1 = misclassification(X_test, y_test, w_hinge_l1)"
   ]
  },
  {
   "cell_type": "code",
   "execution_count": 46,
   "metadata": {},
   "outputs": [
    {
     "name": "stderr",
     "output_type": "stream",
     "text": [
      "\u001b[1m\u001b[33mWARNING: \u001b[39m\u001b[22m\u001b[33msumabs2(x) is deprecated, use sum(abs2, x) instead.\u001b[39m\n",
      "Stacktrace:\n",
      " [1] \u001b[1mdepwarn\u001b[22m\u001b[22m\u001b[1m(\u001b[22m\u001b[22m::String, ::Symbol\u001b[1m)\u001b[22m\u001b[22m at \u001b[1m./deprecated.jl:70\u001b[22m\u001b[22m\n",
      " [2] \u001b[1msumabs2\u001b[22m\u001b[22m\u001b[1m(\u001b[22m\u001b[22m::Array{Float64,1}\u001b[1m)\u001b[22m\u001b[22m at \u001b[1m./deprecated.jl:57\u001b[22m\u001b[22m\n",
      " [3] \u001b[1mevaluate\u001b[22m\u001b[22m at \u001b[1m/Users/kathleenzhu/.julia/v0.6/LowRankModels/src/regularizers.jl:57\u001b[22m\u001b[22m [inlined]\n",
      " [4] \u001b[1m#proxgrad_linesearch#2\u001b[22m\u001b[22m\u001b[1m(\u001b[22m\u001b[22m::Int64, ::Int64, ::Array{Float64,1}, ::LowRankModels.ConvergenceHistory, ::Function, ::LowRankModels.WeightedHingeLoss, ::LowRankModels.QuadReg, ::Array{Float64,2}, ::Array{Int64,1}\u001b[1m)\u001b[22m\u001b[22m at \u001b[1m/Users/kathleenzhu/Documents/GitHub/MedicalNoshow/proxgrad.jl:42\u001b[22m\u001b[22m\n",
      " [5] \u001b[1m(::#kw##proxgrad_linesearch)\u001b[22m\u001b[22m\u001b[1m(\u001b[22m\u001b[22m::Array{Any,1}, ::#proxgrad_linesearch, ::LowRankModels.WeightedHingeLoss, ::LowRankModels.QuadReg, ::Array{Float64,2}, ::Array{Int64,1}\u001b[1m)\u001b[22m\u001b[22m at \u001b[1m./<missing>:0\u001b[22m\u001b[22m\n",
      " [6] \u001b[1m#proxgrad#1\u001b[22m\u001b[22m\u001b[1m(\u001b[22m\u001b[22m::Array{Any,1}, ::Function, ::LowRankModels.WeightedHingeLoss, ::LowRankModels.QuadReg, ::Vararg{Any,N} where N\u001b[1m)\u001b[22m\u001b[22m at \u001b[1m/Users/kathleenzhu/Documents/GitHub/MedicalNoshow/proxgrad.jl:29\u001b[22m\u001b[22m\n",
      " [7] \u001b[1m(::#kw##proxgrad)\u001b[22m\u001b[22m\u001b[1m(\u001b[22m\u001b[22m::Array{Any,1}, ::#proxgrad, ::LowRankModels.WeightedHingeLoss, ::LowRankModels.QuadReg, ::Vararg{Any,N} where N\u001b[1m)\u001b[22m\u001b[22m at \u001b[1m./<missing>:0\u001b[22m\u001b[22m\n",
      " [8] \u001b[1minclude_string\u001b[22m\u001b[22m\u001b[1m(\u001b[22m\u001b[22m::String, ::String\u001b[1m)\u001b[22m\u001b[22m at \u001b[1m./loading.jl:522\u001b[22m\u001b[22m\n",
      " [9] \u001b[1minclude_string\u001b[22m\u001b[22m\u001b[1m(\u001b[22m\u001b[22m::Module, ::String, ::String\u001b[1m)\u001b[22m\u001b[22m at \u001b[1m/Users/kathleenzhu/.julia/v0.6/Compat/src/Compat.jl:478\u001b[22m\u001b[22m\n",
      " [10] \u001b[1mexecute_request\u001b[22m\u001b[22m\u001b[1m(\u001b[22m\u001b[22m::ZMQ.Socket, ::IJulia.Msg\u001b[1m)\u001b[22m\u001b[22m at \u001b[1m/Users/kathleenzhu/.julia/v0.6/IJulia/src/execute_request.jl:154\u001b[22m\u001b[22m\n",
      " [11] \u001b[1meventloop\u001b[22m\u001b[22m\u001b[1m(\u001b[22m\u001b[22m::ZMQ.Socket\u001b[1m)\u001b[22m\u001b[22m at \u001b[1m/Users/kathleenzhu/.julia/v0.6/IJulia/src/eventloop.jl:8\u001b[22m\u001b[22m\n",
      " [12] \u001b[1m(::IJulia.##14#17)\u001b[22m\u001b[22m\u001b[1m(\u001b[22m\u001b[22m\u001b[1m)\u001b[22m\u001b[22m at \u001b[1m./task.jl:335\u001b[22m\u001b[22m\n",
      "while loading In[46], in expression starting on line 3\n"
     ]
    },
    {
     "data": {
      "text/plain": [
       "13-element Array{Float64,1}:\n",
       " -0.00348042\n",
       " -0.0121382 \n",
       " -0.0295863 \n",
       "  0.00682976\n",
       "  0.0104363 \n",
       "  0.00888243\n",
       "  0.00864645\n",
       "  0.00669176\n",
       "  0.00457737\n",
       "  0.00469418\n",
       "  0.0043459 \n",
       "  0.00558204\n",
       "  0.00869854"
      ]
     },
     "execution_count": 46,
     "metadata": {},
     "output_type": "execute_result"
    }
   ],
   "source": [
    "#SVM\n",
    "\n",
    "w_hinge_l2 = proxgrad(loss_hinge, QuadReg(), X_train, y_train, stepsize=1, maxiters=100)\n",
    "\n"
   ]
  },
  {
   "cell_type": "code",
   "execution_count": 47,
   "metadata": {},
   "outputs": [
    {
     "data": {
      "text/plain": [
       "0.3027"
      ]
     },
     "execution_count": 47,
     "metadata": {},
     "output_type": "execute_result"
    }
   ],
   "source": [
    "#misclassification for SVM\n",
    "mis_hinge_l2 = misclassification(X_test, y_test, w_hinge_l2)"
   ]
  },
  {
   "cell_type": "code",
   "execution_count": 48,
   "metadata": {},
   "outputs": [
    {
     "name": "stderr",
     "output_type": "stream",
     "text": [
      "\u001b[1m\u001b[33mWARNING: \u001b[39m\u001b[22m\u001b[33msumabs(x) is deprecated, use sum(abs, x) instead.\u001b[39m\n",
      "Stacktrace:\n",
      " [1] \u001b[1mdepwarn\u001b[22m\u001b[22m\u001b[1m(\u001b[22m\u001b[22m::String, ::Symbol\u001b[1m)\u001b[22m\u001b[22m at \u001b[1m./deprecated.jl:70\u001b[22m\u001b[22m\n",
      " [2] \u001b[1msumabs\u001b[22m\u001b[22m\u001b[1m(\u001b[22m\u001b[22m::Array{Float64,1}\u001b[1m)\u001b[22m\u001b[22m at \u001b[1m./deprecated.jl:57\u001b[22m\u001b[22m\n",
      " [3] \u001b[1mevaluate\u001b[22m\u001b[22m at \u001b[1m/Users/kathleenzhu/.julia/v0.6/LowRankModels/src/regularizers.jl:87\u001b[22m\u001b[22m [inlined]\n",
      " [4] \u001b[1m#proxgrad_linesearch#2\u001b[22m\u001b[22m\u001b[1m(\u001b[22m\u001b[22m::Int64, ::Int64, ::Array{Float64,1}, ::LowRankModels.ConvergenceHistory, ::Function, ::LowRankModels.LogisticLoss, ::LowRankModels.OneReg, ::Array{Float64,2}, ::Array{Int64,1}\u001b[1m)\u001b[22m\u001b[22m at \u001b[1m/Users/kathleenzhu/Documents/GitHub/MedicalNoshow/proxgrad.jl:42\u001b[22m\u001b[22m\n",
      " [5] \u001b[1m(::#kw##proxgrad_linesearch)\u001b[22m\u001b[22m\u001b[1m(\u001b[22m\u001b[22m::Array{Any,1}, ::#proxgrad_linesearch, ::LowRankModels.LogisticLoss, ::LowRankModels.OneReg, ::Array{Float64,2}, ::Array{Int64,1}\u001b[1m)\u001b[22m\u001b[22m at \u001b[1m./<missing>:0\u001b[22m\u001b[22m\n",
      " [6] \u001b[1m#proxgrad#1\u001b[22m\u001b[22m\u001b[1m(\u001b[22m\u001b[22m::Array{Any,1}, ::Function, ::LowRankModels.LogisticLoss, ::LowRankModels.OneReg, ::Vararg{Any,N} where N\u001b[1m)\u001b[22m\u001b[22m at \u001b[1m/Users/kathleenzhu/Documents/GitHub/MedicalNoshow/proxgrad.jl:29\u001b[22m\u001b[22m\n",
      " [7] \u001b[1m(::#kw##proxgrad)\u001b[22m\u001b[22m\u001b[1m(\u001b[22m\u001b[22m::Array{Any,1}, ::#proxgrad, ::LowRankModels.LogisticLoss, ::LowRankModels.OneReg, ::Vararg{Any,N} where N\u001b[1m)\u001b[22m\u001b[22m at \u001b[1m./<missing>:0\u001b[22m\u001b[22m\n",
      " [8] \u001b[1minclude_string\u001b[22m\u001b[22m\u001b[1m(\u001b[22m\u001b[22m::String, ::String\u001b[1m)\u001b[22m\u001b[22m at \u001b[1m./loading.jl:522\u001b[22m\u001b[22m\n",
      " [9] \u001b[1minclude_string\u001b[22m\u001b[22m\u001b[1m(\u001b[22m\u001b[22m::Module, ::String, ::String\u001b[1m)\u001b[22m\u001b[22m at \u001b[1m/Users/kathleenzhu/.julia/v0.6/Compat/src/Compat.jl:478\u001b[22m\u001b[22m\n",
      " [10] \u001b[1mexecute_request\u001b[22m\u001b[22m\u001b[1m(\u001b[22m\u001b[22m::ZMQ.Socket, ::IJulia.Msg\u001b[1m)\u001b[22m\u001b[22m at \u001b[1m/Users/kathleenzhu/.julia/v0.6/IJulia/src/execute_request.jl:154\u001b[22m\u001b[22m\n",
      " [11] \u001b[1meventloop\u001b[22m\u001b[22m\u001b[1m(\u001b[22m\u001b[22m::ZMQ.Socket\u001b[1m)\u001b[22m\u001b[22m at \u001b[1m/Users/kathleenzhu/.julia/v0.6/IJulia/src/eventloop.jl:8\u001b[22m\u001b[22m\n",
      " [12] \u001b[1m(::IJulia.##14#17)\u001b[22m\u001b[22m\u001b[1m(\u001b[22m\u001b[22m\u001b[1m)\u001b[22m\u001b[22m at \u001b[1m./task.jl:335\u001b[22m\u001b[22m\n",
      "while loading In[48], in expression starting on line 4\n",
      "\u001b[1m\u001b[33mWARNING: \u001b[39m\u001b[22m\u001b[33mmax(x::AbstractArray{T1}, y::Real) where T1 <: Real is deprecated, use max.(x, y) instead.\u001b[39m\n",
      "Stacktrace:\n",
      " [1] \u001b[1mdepwarn\u001b[22m\u001b[22m\u001b[1m(\u001b[22m\u001b[22m::String, ::Symbol\u001b[1m)\u001b[22m\u001b[22m at \u001b[1m./deprecated.jl:70\u001b[22m\u001b[22m\n",
      " [2] \u001b[1mmax\u001b[22m\u001b[22m\u001b[1m(\u001b[22m\u001b[22m::Array{Float64,1}, ::Int64\u001b[1m)\u001b[22m\u001b[22m at \u001b[1m./deprecated.jl:57\u001b[22m\u001b[22m\n",
      " [3] \u001b[1mprox\u001b[22m\u001b[22m\u001b[1m(\u001b[22m\u001b[22m::LowRankModels.OneReg, ::Array{Float64,1}, ::Int64\u001b[1m)\u001b[22m\u001b[22m at \u001b[1m/Users/kathleenzhu/.julia/v0.6/LowRankModels/src/regularizers.jl:82\u001b[22m\u001b[22m\n",
      " [4] \u001b[1m#proxgrad_linesearch#2\u001b[22m\u001b[22m\u001b[1m(\u001b[22m\u001b[22m::Int64, ::Int64, ::Array{Float64,1}, ::LowRankModels.ConvergenceHistory, ::Function, ::LowRankModels.LogisticLoss, ::LowRankModels.OneReg, ::Array{Float64,2}, ::Array{Int64,1}\u001b[1m)\u001b[22m\u001b[22m at \u001b[1m/Users/kathleenzhu/Documents/GitHub/MedicalNoshow/proxgrad.jl:48\u001b[22m\u001b[22m\n",
      " [5] \u001b[1m(::#kw##proxgrad_linesearch)\u001b[22m\u001b[22m\u001b[1m(\u001b[22m\u001b[22m::Array{Any,1}, ::#proxgrad_linesearch, ::LowRankModels.LogisticLoss, ::LowRankModels.OneReg, ::Array{Float64,2}, ::Array{Int64,1}\u001b[1m)\u001b[22m\u001b[22m at \u001b[1m./<missing>:0\u001b[22m\u001b[22m\n",
      " [6] \u001b[1m#proxgrad#1\u001b[22m\u001b[22m\u001b[1m(\u001b[22m\u001b[22m::Array{Any,1}, ::Function, ::LowRankModels.LogisticLoss, ::LowRankModels.OneReg, ::Vararg{Any,N} where N\u001b[1m)\u001b[22m\u001b[22m at \u001b[1m/Users/kathleenzhu/Documents/GitHub/MedicalNoshow/proxgrad.jl:29\u001b[22m\u001b[22m\n",
      " [7] \u001b[1m(::#kw##proxgrad)\u001b[22m\u001b[22m\u001b[1m(\u001b[22m\u001b[22m::Array{Any,1}, ::#proxgrad, ::LowRankModels.LogisticLoss, ::LowRankModels.OneReg, ::Vararg{Any,N} where N\u001b[1m)\u001b[22m\u001b[22m at \u001b[1m./<missing>:0\u001b[22m\u001b[22m\n",
      " [8] \u001b[1minclude_string\u001b[22m\u001b[22m\u001b[1m(\u001b[22m\u001b[22m::String, ::String\u001b[1m)\u001b[22m\u001b[22m at \u001b[1m./loading.jl:522\u001b[22m\u001b[22m\n",
      " [9] \u001b[1minclude_string\u001b[22m\u001b[22m\u001b[1m(\u001b[22m\u001b[22m::Module, ::String, ::String\u001b[1m)\u001b[22m\u001b[22m at \u001b[1m/Users/kathleenzhu/.julia/v0.6/Compat/src/Compat.jl:478\u001b[22m\u001b[22m\n",
      " [10] \u001b[1mexecute_request\u001b[22m\u001b[22m\u001b[1m(\u001b[22m\u001b[22m::ZMQ.Socket, ::IJulia.Msg\u001b[1m)\u001b[22m\u001b[22m at \u001b[1m/Users/kathleenzhu/.julia/v0.6/IJulia/src/execute_request.jl:154\u001b[22m\u001b[22m\n",
      " [11] \u001b[1meventloop\u001b[22m\u001b[22m\u001b[1m(\u001b[22m\u001b[22m::ZMQ.Socket\u001b[1m)\u001b[22m\u001b[22m at \u001b[1m/Users/kathleenzhu/.julia/v0.6/IJulia/src/eventloop.jl:8\u001b[22m\u001b[22m\n",
      " [12] \u001b[1m(::IJulia.##14#17)\u001b[22m\u001b[22m\u001b[1m(\u001b[22m\u001b[22m\u001b[1m)\u001b[22m\u001b[22m at \u001b[1m./task.jl:335\u001b[22m\u001b[22m\n",
      "while loading In[48], in expression starting on line 4\n"
     ]
    },
    {
     "data": {
      "text/plain": [
       "13-element Array{Float64,1}:\n",
       "  0.0      \n",
       " -0.0166708\n",
       "  0.0      \n",
       "  0.0      \n",
       "  0.0      \n",
       "  0.0      \n",
       "  0.0      \n",
       "  0.0      \n",
       "  0.0      \n",
       "  0.0      \n",
       "  0.0      \n",
       "  0.0      \n",
       "  0.0      "
      ]
     },
     "execution_count": 48,
     "metadata": {},
     "output_type": "execute_result"
    }
   ],
   "source": [
    "#Logistic loss with l1 regularizer\n",
    "\n",
    "loss_logistic = 1/n*LogisticLoss()\n",
    "w_logistic_l1 = proxgrad(loss_logistic, OneReg(), X_train, y_train, stepsize=1, maxiters=100)"
   ]
  },
  {
   "cell_type": "code",
   "execution_count": 49,
   "metadata": {},
   "outputs": [
    {
     "data": {
      "text/plain": [
       "0.3278"
      ]
     },
     "execution_count": 49,
     "metadata": {},
     "output_type": "execute_result"
    }
   ],
   "source": [
    "#misclassification for Logistic loss with l1 regularizer\n",
    "mis_logistic_l1 = misclassification(X_test, y_test, w_logistic_l1)"
   ]
  },
  {
   "cell_type": "code",
   "execution_count": 50,
   "metadata": {
    "scrolled": true
   },
   "outputs": [
    {
     "name": "stderr",
     "output_type": "stream",
     "text": [
      "\u001b[1m\u001b[33mWARNING: \u001b[39m\u001b[22m\u001b[33msumabs2(x) is deprecated, use sum(abs2, x) instead.\u001b[39m\n",
      "Stacktrace:\n",
      " [1] \u001b[1mdepwarn\u001b[22m\u001b[22m\u001b[1m(\u001b[22m\u001b[22m::String, ::Symbol\u001b[1m)\u001b[22m\u001b[22m at \u001b[1m./deprecated.jl:70\u001b[22m\u001b[22m\n",
      " [2] \u001b[1msumabs2\u001b[22m\u001b[22m\u001b[1m(\u001b[22m\u001b[22m::Array{Float64,1}\u001b[1m)\u001b[22m\u001b[22m at \u001b[1m./deprecated.jl:57\u001b[22m\u001b[22m\n",
      " [3] \u001b[1mevaluate\u001b[22m\u001b[22m at \u001b[1m/Users/kathleenzhu/.julia/v0.6/LowRankModels/src/regularizers.jl:57\u001b[22m\u001b[22m [inlined]\n",
      " [4] \u001b[1m#proxgrad_linesearch#2\u001b[22m\u001b[22m\u001b[1m(\u001b[22m\u001b[22m::Int64, ::Int64, ::Array{Float64,1}, ::LowRankModels.ConvergenceHistory, ::Function, ::LowRankModels.LogisticLoss, ::LowRankModels.QuadReg, ::Array{Float64,2}, ::Array{Int64,1}\u001b[1m)\u001b[22m\u001b[22m at \u001b[1m/Users/kathleenzhu/Documents/GitHub/MedicalNoshow/proxgrad.jl:42\u001b[22m\u001b[22m\n",
      " [5] \u001b[1m(::#kw##proxgrad_linesearch)\u001b[22m\u001b[22m\u001b[1m(\u001b[22m\u001b[22m::Array{Any,1}, ::#proxgrad_linesearch, ::LowRankModels.LogisticLoss, ::LowRankModels.QuadReg, ::Array{Float64,2}, ::Array{Int64,1}\u001b[1m)\u001b[22m\u001b[22m at \u001b[1m./<missing>:0\u001b[22m\u001b[22m\n",
      " [6] \u001b[1m#proxgrad#1\u001b[22m\u001b[22m\u001b[1m(\u001b[22m\u001b[22m::Array{Any,1}, ::Function, ::LowRankModels.LogisticLoss, ::LowRankModels.QuadReg, ::Vararg{Any,N} where N\u001b[1m)\u001b[22m\u001b[22m at \u001b[1m/Users/kathleenzhu/Documents/GitHub/MedicalNoshow/proxgrad.jl:29\u001b[22m\u001b[22m\n",
      " [7] \u001b[1m(::#kw##proxgrad)\u001b[22m\u001b[22m\u001b[1m(\u001b[22m\u001b[22m::Array{Any,1}, ::#proxgrad, ::LowRankModels.LogisticLoss, ::LowRankModels.QuadReg, ::Vararg{Any,N} where N\u001b[1m)\u001b[22m\u001b[22m at \u001b[1m./<missing>:0\u001b[22m\u001b[22m\n",
      " [8] \u001b[1minclude_string\u001b[22m\u001b[22m\u001b[1m(\u001b[22m\u001b[22m::String, ::String\u001b[1m)\u001b[22m\u001b[22m at \u001b[1m./loading.jl:522\u001b[22m\u001b[22m\n",
      " [9] \u001b[1minclude_string\u001b[22m\u001b[22m\u001b[1m(\u001b[22m\u001b[22m::Module, ::String, ::String\u001b[1m)\u001b[22m\u001b[22m at \u001b[1m/Users/kathleenzhu/.julia/v0.6/Compat/src/Compat.jl:478\u001b[22m\u001b[22m\n",
      " [10] \u001b[1mexecute_request\u001b[22m\u001b[22m\u001b[1m(\u001b[22m\u001b[22m::ZMQ.Socket, ::IJulia.Msg\u001b[1m)\u001b[22m\u001b[22m at \u001b[1m/Users/kathleenzhu/.julia/v0.6/IJulia/src/execute_request.jl:154\u001b[22m\u001b[22m\n",
      " [11] \u001b[1meventloop\u001b[22m\u001b[22m\u001b[1m(\u001b[22m\u001b[22m::ZMQ.Socket\u001b[1m)\u001b[22m\u001b[22m at \u001b[1m/Users/kathleenzhu/.julia/v0.6/IJulia/src/eventloop.jl:8\u001b[22m\u001b[22m\n",
      " [12] \u001b[1m(::IJulia.##14#17)\u001b[22m\u001b[22m\u001b[1m(\u001b[22m\u001b[22m\u001b[1m)\u001b[22m\u001b[22m at \u001b[1m./task.jl:335\u001b[22m\u001b[22m\n",
      "while loading In[50], in expression starting on line 3\n"
     ]
    },
    {
     "data": {
      "text/plain": [
       "13-element Array{Float64,1}:\n",
       "  0.00416524\n",
       " -0.0158045 \n",
       " -0.0162673 \n",
       "  0.0058656 \n",
       "  0.00550047\n",
       "  0.00680922\n",
       "  0.00532694\n",
       "  0.00527268\n",
       "  0.00194903\n",
       "  0.00264178\n",
       "  0.00217697\n",
       "  0.00375516\n",
       "  0.00551774"
      ]
     },
     "execution_count": 50,
     "metadata": {},
     "output_type": "execute_result"
    }
   ],
   "source": [
    "#Logistic loss with l2 regularizer\n",
    "\n",
    "w_logistic_l2 = proxgrad(loss_logistic, QuadReg(), X_train, y_train, stepsize=1, maxiters=100)"
   ]
  },
  {
   "cell_type": "code",
   "execution_count": 51,
   "metadata": {},
   "outputs": [
    {
     "data": {
      "text/plain": [
       "0.3044"
      ]
     },
     "execution_count": 51,
     "metadata": {},
     "output_type": "execute_result"
    }
   ],
   "source": [
    "#misclassification for Logistic loss with l2 regularizer\n",
    "mis_logistic_l2 = misclassification(X_test, y_test, w_logistic_l2)"
   ]
  },
  {
   "cell_type": "code",
   "execution_count": null,
   "metadata": {
    "collapsed": true
   },
   "outputs": [],
   "source": []
  }
 ],
 "metadata": {
  "kernelspec": {
   "display_name": "Julia 0.6.1",
   "language": "julia",
   "name": "julia-0.6"
  },
  "language_info": {
   "file_extension": ".jl",
   "mimetype": "application/julia",
   "name": "julia",
   "version": "0.6.1"
  }
 },
 "nbformat": 4,
 "nbformat_minor": 2
}
